{
 "cells": [
  {
   "cell_type": "code",
   "execution_count": 2,
   "id": "07288aa4-317e-4968-8058-e30dbad1029b",
   "metadata": {},
   "outputs": [
    {
     "name": "stdout",
     "output_type": "stream",
     "text": [
      "     Tickers\n",
      "0       CALC\n",
      "1       MPTI\n",
      "2       APLE\n",
      "3        VLO\n",
      "4        PBA\n",
      "...      ...\n",
      "5534    LENZ\n",
      "5535    LUMN\n",
      "5536     AFG\n",
      "5537     UMC\n",
      "5538    INTU\n",
      "\n",
      "[5539 rows x 1 columns]\n"
     ]
    }
   ],
   "source": [
    "import pandas as pd\n",
    "\n",
    "# CSV 파일 로드\n",
    "df = pd.read_csv('tickers.csv')\n",
    "\n",
    "# 출력\n",
    "print(df)"
   ]
  },
  {
   "cell_type": "code",
   "execution_count": null,
   "id": "20faf68f-c7ef-4886-8bc1-cf4445e2862e",
   "metadata": {},
   "outputs": [],
   "source": []
  }
 ],
 "metadata": {
  "kernelspec": {
   "display_name": "Python 3 (ipykernel)",
   "language": "python",
   "name": "python3"
  },
  "language_info": {
   "codemirror_mode": {
    "name": "ipython",
    "version": 3
   },
   "file_extension": ".py",
   "mimetype": "text/x-python",
   "name": "python",
   "nbconvert_exporter": "python",
   "pygments_lexer": "ipython3",
   "version": "3.12.7"
  }
 },
 "nbformat": 4,
 "nbformat_minor": 5
}
